{
 "cells": [
  {
   "cell_type": "code",
   "execution_count": 20,
   "id": "bfc26f39-73b6-4fd9-8e61-ad404bf6bcc9",
   "metadata": {},
   "outputs": [
    {
     "name": "stdout",
     "output_type": "stream",
     "text": [
      "He was named after his creation That year of desktop environment often\n"
     ]
    }
   ],
   "source": [
    "# Python code​​​​​​‌‌​‌‌‌​‌‌​​‌‌‌​​‌‌‌‌​‌‌​​ below\n",
    "# Use print(\"messages...\") to debug your solution.\n",
    "import random\n",
    "from string import punctuation\n",
    "from collections import defaultdict\n",
    "\n",
    "class MarkovChain:\n",
    "    def __init__(self):\n",
    "        self.graph = defaultdict(list)\n",
    "\n",
    "    def _tokenize(self, text):\n",
    "        return (\n",
    "            text.translate(str.maketrans(\"\", \"\", punctuation + \"1234567890\"))\n",
    "            .replace(\"\\n\", \" \")\n",
    "            .split(\" \")\n",
    "        )\n",
    "\n",
    "    def train(self, text):\n",
    "        tokens = self._tokenize(text)\n",
    "        for i, token in enumerate(tokens):\n",
    "            if (len(tokens) - 1) == i:\n",
    "                break\n",
    "            self.graph[token].append(tokens[i + 1])\n",
    "\n",
    "    def generate(self, prompt, length=10):\n",
    "        # get the lask token from the prompt\n",
    "        current = self._tokenize(prompt)[-1]\n",
    "        # initialize the output\n",
    "        output = prompt\n",
    "        for i in range(length):\n",
    "            # look up the options in the graph dictionary\n",
    "            options = self.graph.get(current, [])\n",
    "            if not options:\n",
    "                continue\n",
    "            # use random.choice method to pick a current option\n",
    "            current = random.choice(options)\n",
    "            # add the random choice to the output string\n",
    "            output = \" \".join([output, current])\n",
    "        return output\n",
    "\n",
    "# This is how your code will be called.\n",
    "# Your answer should be the largest value in the numbers list.\n",
    "# You can edit this code to try different testing cases.\n",
    "text = \"\"\"\n",
    "Andrey Markov was born on 14 June 1856 in Russia. He attended the St. Petersburg Grammar School, where some teachers saw him as a rebellious student. In his academics he performed poorly in most subjects other than mathematics. Later in life he attended Saint Petersburg Imperial University (now Saint Petersburg State University). Among his teachers were Yulian Sokhotski (differential calculus, higher algebra), Konstantin Posse (analytic geometry), Yegor Zolotarev (integral calculus), Pafnuty Chebyshev (number theory and probability theory), Aleksandr Korkin (ordinary and partial differential equations), Mikhail Okatov (mechanism theory), Osip Somov (mechanics), and Nikolai Budajev (descriptive and higher geometry). He completed his studies at the university and was later asked if he would like to stay and have a career as a Mathematician. He later taught at high schools and continued his own mathematical studies. In this time he found a practical use for his mathematical skills. He figured out that he could use chains to model the alliteration of vowels and consonants in Russian literature. He also contributed to many other mathematical aspects in his time. He died at age 66 on 20 July 1922.\n",
    "Torvalds was born in Helsinki, Finland, the son of journalists Anna and Nils Torvalds,[7] the grandson of statistician Leo Törnqvist and of poet Ole Torvalds, and the great-grandson of journalist and soldier Toivo Karanko. His parents were campus radicals at the University of Helsinki in the 1960s. His family belongs to the Swedish-speaking minority in Finland. He was named after Linus Pauling, the Nobel Prize-winning American chemist, although in the book Rebel Code: Linux and the Open Source Revolution, he is quoted as saying, \"I think I was named equally for Linus the Peanuts cartoon character\", noting that this made him \"half Nobel Prize-winning chemist and half blanket-carrying cartoon character\".[8]\n",
    "\n",
    "Torvalds attended the University of Helsinki from 1988 to 1996,[9] graduating with a master's degree in computer science from the NODES research group.[10] His academic career was interrupted after his first year of study when he joined the Finnish Navy Nyland Brigade in the summer of 1989, selecting the 11-month officer training program to fulfill the mandatory military service of Finland. He gained the rank of second lieutenant, with the role of an artillery observer.[11] He bought computer science professor Andrew Tanenbaum's book Operating Systems: Design and Implementation, in which Tanenbaum describes MINIX, an educational stripped-down version of Unix. In 1990, Torvalds resumed his university studies, and was exposed to Unix for the first time in the form of a DEC MicroVAX running ULTRIX.[12] His MSc thesis was titled Linux: A Portable Operating System.[13]\n",
    "\n",
    "His interest in computers began with a VIC-20[14] at the age of 11 in 1981. He started programming for it in BASIC, then later by directly accessing the 6502 CPU in machine code (he did not utilize assembly language).[15] He then purchased a Sinclair QL, which he modified extensively, especially its operating system. \"Because it was so hard to get software for it in Finland\", he wrote his own assembler and editor \"(in addition to Pac-Man graphics libraries)\"[16] for the QL, and a few games.[17][18] He wrote a Pac-Man clone, Cool Man. On 5 January 1991[19] he purchased an Intel 80386-based clone of IBM PC[20] before receiving his MINIX copy, which in turn enabled him to begin work on Linux.\n",
    "\n",
    "Linux\n",
    "Main article: History of Linux\n",
    "The first Linux prototypes were publicly released in late 1991.[8][21] Version 1.0 was released on 14 March 1994.[22]\n",
    "\n",
    "Torvalds first encountered the GNU Project in 1991 when another Swedish-speaking computer science student, Lars Wirzenius, took him to the University of Technology to listen to free software guru Richard Stallman's speech.[citation needed] Torvalds used Stallman's GNU General Public License version 2 (GPLv2) for his Linux kernel.\n",
    "\n",
    "After a visit to Transmeta in late 1996,[23] Torvalds accepted a position at the company in California, where he worked from February 1997 to June 2003. He then moved to the Open Source Development Labs, which has since merged with the Free Standards Group to become the Linux Foundation, under whose auspices he continues to work. In June 2004, Torvalds and his family moved to Dunthorpe, Oregon[24] to be closer to the OSDL's headquarters in Beaverton.\n",
    "\n",
    "From 1997 to 1999, he was involved in 86open, helping select the standard binary format for Linux and Unix. In 1999, he was named by the MIT Technology Review TR100 as one of the world's top 100 innovators under age 35.[25]\n",
    "\n",
    "In 1999, Red Hat and VA Linux, both leading developers of Linux-based software, presented Torvalds with stock options in gratitude for his creation.[26] That year both companies went public and Torvalds's share value briefly shot up to about US$20 million.[27][28]\n",
    "\n",
    "His personal mascot is a penguin nicknamed Tux,[29] which has been widely adopted by the Linux community as the Linux kernel's mascot.[30]\n",
    "\n",
    "Although Torvalds believes \"open source is the only right way to do software\", he also has said that he uses the \"best tool for the job\", even if that includes proprietary software.[31] He was criticized for his use and alleged advocacy of the proprietary BitKeeper software for version control in the Linux kernel. He subsequently wrote a free-software replacement for it called Git.\n",
    "\n",
    "In 2008, Torvalds stated that he used the Fedora Linux distribution because it had fairly good support for the PowerPC processor architecture, which he favored at the time.[32] He confirmed this in a 2012 interview.[33] He has also posted updates about his choice of desktop environment, often in response to perceived feature regressions.\n",
    "\n",
    "The Linux Foundation currently sponsors Torvalds so he can work full-time on improving Linux.[34]\n",
    "\n",
    "Torvalds is known for vocally disagreeing with other developers on the Linux kernel mailing list.[35] Calling himself a \"really unpleasant person\", he explained, \"I'd like to be a nice person and curse less and encourage people to grow rather than telling them they are idiots. I'm sorry—I tried, it's just not in me.\"[36][37] His attitude, which he considers necessary for making his points clear, has drawn criticism from Intel programmer Sage Sharp and systemd developer Lennart Poettering, among others.[38][failed verification][39]\n",
    "\n",
    "On Sunday, 16 September 2018, the Linux kernel Code of Conflict was suddenly replaced by a new Code of Conduct based on the Contributor Covenant. Shortly thereafter, in the release notes for Linux 4.19-rc4, Torvalds apologized for his behavior, calling his personal attacks of the past \"unprofessional and uncalled for\" and announced a period of \"time off\" to \"get some assistance on how to understand people's emotions and respond appropriately\". It soon transpired that these events followed The New Yorker approaching Torvalds with a series of questions critical of his conduct.[40][41][42] Following the release of Linux 4.19 on 22 October 2018, Torvalds returned to maintaining the kernel.[43]\n",
    "\"\"\"\n",
    "\n",
    "chain = MarkovChain()\n",
    "chain.train(text)\n",
    "sample_prompt = \"He was\"\n",
    "print(chain.generate(sample_prompt))\n",
    "\n"
   ]
  },
  {
   "cell_type": "code",
   "execution_count": null,
   "id": "586fd5f8-047e-4fcb-ba9c-a1ca68decfe8",
   "metadata": {},
   "outputs": [],
   "source": [
    "\"vikas\".translate(str.maketrans"
   ]
  },
  {
   "cell_type": "code",
   "execution_count": 15,
   "id": "0afb5ad4-fe3b-40de-aca0-365ad47adb65",
   "metadata": {},
   "outputs": [
    {
     "name": "stdout",
     "output_type": "stream",
     "text": [
      "Hello Sam from the hills and father of light\n"
     ]
    }
   ],
   "source": [
    "# Create a mapping table, and use it in the translate() method to replace any \"S\" characters with a \"P\" character\n",
    "txt = \"Hello Sam, from the hills and father of light!\"\n",
    "mytable = txt.maketrans(\"\", \"\", punctuation + \"1234567890\")\n",
    "print(txt.translate(mytable))"
   ]
  },
  {
   "cell_type": "code",
   "execution_count": 23,
   "id": "c7090792-44c0-4a8f-a115-89519544d733",
   "metadata": {},
   "outputs": [
    {
     "name": "stdout",
     "output_type": "stream",
     "text": [
      "he was criticized for his behavior calling his personal attacks of the\n"
     ]
    }
   ],
   "source": [
    "import random\n",
    "from string import punctuation\n",
    "from collections import defaultdict\n",
    "\n",
    "class TrigramMarkovChain:\n",
    "    def __init__(self):\n",
    "        self.graph = defaultdict(list)\n",
    "\n",
    "    def _tokenize(self, text):\n",
    "        return (\n",
    "            text.translate(str.maketrans(\"\", \"\", punctuation + \"1234567890\"))\n",
    "            .replace(\"\\n\", \" \")\n",
    "            .lower()\n",
    "            .split()\n",
    "        )\n",
    "\n",
    "    def train(self, text):\n",
    "        tokens = self._tokenize(text)\n",
    "        for i in range(len(tokens) - 2):\n",
    "            key = (tokens[i], tokens[i + 1])\n",
    "            self.graph[key].append(tokens[i + 2])\n",
    "\n",
    "    def generate(self, prompt, length=10):\n",
    "        tokens = self._tokenize(prompt)\n",
    "        if len(tokens) < 2:\n",
    "            raise ValueError(\"Need at least two words in prompt for trigram generation\")\n",
    "\n",
    "        current = (tokens[-2], tokens[-1])\n",
    "        output = tokens[:]\n",
    "\n",
    "        for _ in range(length):\n",
    "            options = self.graph.get(current, [])\n",
    "            if not options:\n",
    "                break\n",
    "            next_word = random.choice(options)\n",
    "            output.append(next_word)\n",
    "            current = (current[1], next_word)\n",
    "\n",
    "        return \" \".join(output)\n",
    "        \n",
    "chain = TrigramMarkovChain()\n",
    "chain.train(text)\n",
    "print(chain.generate(\"he was\"))\n"
   ]
  },
  {
   "cell_type": "code",
   "execution_count": null,
   "id": "05bfcce7-dd80-43d1-8dfa-7555ce288ea1",
   "metadata": {},
   "outputs": [],
   "source": []
  },
  {
   "cell_type": "code",
   "execution_count": null,
   "id": "314b017e-e563-4835-9353-096d0639c513",
   "metadata": {},
   "outputs": [],
   "source": []
  }
 ],
 "metadata": {
  "kernelspec": {
   "display_name": "Python 3 (ipykernel)",
   "language": "python",
   "name": "python3"
  },
  "language_info": {
   "codemirror_mode": {
    "name": "ipython",
    "version": 3
   },
   "file_extension": ".py",
   "mimetype": "text/x-python",
   "name": "python",
   "nbconvert_exporter": "python",
   "pygments_lexer": "ipython3",
   "version": "3.12.4"
  }
 },
 "nbformat": 4,
 "nbformat_minor": 5
}
